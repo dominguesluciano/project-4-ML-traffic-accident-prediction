{
 "cells": [
  {
   "cell_type": "markdown",
   "metadata": {},
   "source": [
    "## Project 4 - Machine Learning project"
   ]
  },
  {
   "cell_type": "markdown",
   "metadata": {},
   "source": [
    "#### Predicting the severity of the next traffic accident"
   ]
  },
  {
   "cell_type": "code",
   "execution_count": 35,
   "metadata": {},
   "outputs": [],
   "source": [
    "#dependencies\n",
    "import pandas as pd\n",
    "import numpy as np"
   ]
  },
  {
   "cell_type": "code",
   "execution_count": 2,
   "metadata": {},
   "outputs": [],
   "source": [
    "# url = \"https://bootcamp-bucket-ldp-2019.s3.amazonaws.com/US_Accidents_Dec19.csv\"\n",
    "url = \"US_Accidents_Dec19.csv\"\n",
    "# url = \"accidents_fl_02.csv\"\n",
    "\n",
    "raw_df = pd.read_csv(url) "
   ]
  },
  {
   "cell_type": "code",
   "execution_count": null,
   "metadata": {},
   "outputs": [],
   "source": [
    "raw_df['Precipitation(in)']"
   ]
  },
  {
   "cell_type": "code",
   "execution_count": 39,
   "metadata": {},
   "outputs": [],
   "source": [
    "np_input = np.array(['State',\n",
    "                     'Severity',\n",
    "                     'Weather_Condition',\n",
    "                     'Amenity',\n",
    "                     'Bump','Crossing',\n",
    "                     'Give_Way',\n",
    "                     'Stop',\n",
    "                     'Traffic_Calming',\n",
    "                     'Sunrise_Sunset',\n",
    "                     'Traffic_Signal',\n",
    "                     'Temperature(F)',\n",
    "                     'Precipitation(in)'])"
   ]
  },
  {
   "cell_type": "markdown",
   "metadata": {},
   "source": [
    "## Testing DF with a single State"
   ]
  },
  {
   "cell_type": "code",
   "execution_count": 40,
   "metadata": {},
   "outputs": [
    {
     "data": {
      "text/html": [
       "<div>\n",
       "<style scoped>\n",
       "    .dataframe tbody tr th:only-of-type {\n",
       "        vertical-align: middle;\n",
       "    }\n",
       "\n",
       "    .dataframe tbody tr th {\n",
       "        vertical-align: top;\n",
       "    }\n",
       "\n",
       "    .dataframe thead th {\n",
       "        text-align: right;\n",
       "    }\n",
       "</style>\n",
       "<table border=\"1\" class=\"dataframe\">\n",
       "  <thead>\n",
       "    <tr style=\"text-align: right;\">\n",
       "      <th></th>\n",
       "      <th>State</th>\n",
       "      <th>Severity</th>\n",
       "      <th>Weather_Condition</th>\n",
       "      <th>Amenity</th>\n",
       "      <th>Bump</th>\n",
       "      <th>Crossing</th>\n",
       "      <th>Give_Way</th>\n",
       "      <th>Stop</th>\n",
       "      <th>Traffic_Calming</th>\n",
       "      <th>Sunrise_Sunset</th>\n",
       "      <th>Traffic_Signal</th>\n",
       "      <th>Temperature(F)</th>\n",
       "      <th>Precipitation(in)</th>\n",
       "    </tr>\n",
       "  </thead>\n",
       "  <tbody>\n",
       "    <tr>\n",
       "      <th>116060</th>\n",
       "      <td>FL</td>\n",
       "      <td>3</td>\n",
       "      <td>Overcast</td>\n",
       "      <td>False</td>\n",
       "      <td>False</td>\n",
       "      <td>False</td>\n",
       "      <td>False</td>\n",
       "      <td>False</td>\n",
       "      <td>False</td>\n",
       "      <td>Day</td>\n",
       "      <td>False</td>\n",
       "      <td>80.6</td>\n",
       "      <td>NaN</td>\n",
       "    </tr>\n",
       "    <tr>\n",
       "      <th>116061</th>\n",
       "      <td>FL</td>\n",
       "      <td>3</td>\n",
       "      <td>Mostly Cloudy</td>\n",
       "      <td>False</td>\n",
       "      <td>False</td>\n",
       "      <td>False</td>\n",
       "      <td>False</td>\n",
       "      <td>False</td>\n",
       "      <td>False</td>\n",
       "      <td>Day</td>\n",
       "      <td>False</td>\n",
       "      <td>80.6</td>\n",
       "      <td>NaN</td>\n",
       "    </tr>\n",
       "    <tr>\n",
       "      <th>116062</th>\n",
       "      <td>FL</td>\n",
       "      <td>2</td>\n",
       "      <td>Mostly Cloudy</td>\n",
       "      <td>False</td>\n",
       "      <td>False</td>\n",
       "      <td>False</td>\n",
       "      <td>False</td>\n",
       "      <td>False</td>\n",
       "      <td>False</td>\n",
       "      <td>Day</td>\n",
       "      <td>True</td>\n",
       "      <td>80.1</td>\n",
       "      <td>NaN</td>\n",
       "    </tr>\n",
       "    <tr>\n",
       "      <th>116063</th>\n",
       "      <td>FL</td>\n",
       "      <td>3</td>\n",
       "      <td>Mostly Cloudy</td>\n",
       "      <td>False</td>\n",
       "      <td>False</td>\n",
       "      <td>False</td>\n",
       "      <td>False</td>\n",
       "      <td>False</td>\n",
       "      <td>False</td>\n",
       "      <td>Day</td>\n",
       "      <td>False</td>\n",
       "      <td>80.1</td>\n",
       "      <td>NaN</td>\n",
       "    </tr>\n",
       "    <tr>\n",
       "      <th>116064</th>\n",
       "      <td>FL</td>\n",
       "      <td>2</td>\n",
       "      <td>Scattered Clouds</td>\n",
       "      <td>False</td>\n",
       "      <td>False</td>\n",
       "      <td>False</td>\n",
       "      <td>False</td>\n",
       "      <td>False</td>\n",
       "      <td>False</td>\n",
       "      <td>Day</td>\n",
       "      <td>False</td>\n",
       "      <td>79.0</td>\n",
       "      <td>NaN</td>\n",
       "    </tr>\n",
       "    <tr>\n",
       "      <th>...</th>\n",
       "      <td>...</td>\n",
       "      <td>...</td>\n",
       "      <td>...</td>\n",
       "      <td>...</td>\n",
       "      <td>...</td>\n",
       "      <td>...</td>\n",
       "      <td>...</td>\n",
       "      <td>...</td>\n",
       "      <td>...</td>\n",
       "      <td>...</td>\n",
       "      <td>...</td>\n",
       "      <td>...</td>\n",
       "      <td>...</td>\n",
       "    </tr>\n",
       "    <tr>\n",
       "      <th>2974003</th>\n",
       "      <td>FL</td>\n",
       "      <td>2</td>\n",
       "      <td>Mostly Cloudy</td>\n",
       "      <td>False</td>\n",
       "      <td>False</td>\n",
       "      <td>False</td>\n",
       "      <td>False</td>\n",
       "      <td>False</td>\n",
       "      <td>False</td>\n",
       "      <td>Day</td>\n",
       "      <td>False</td>\n",
       "      <td>86.0</td>\n",
       "      <td>0.0</td>\n",
       "    </tr>\n",
       "    <tr>\n",
       "      <th>2974004</th>\n",
       "      <td>FL</td>\n",
       "      <td>3</td>\n",
       "      <td>Thunder</td>\n",
       "      <td>False</td>\n",
       "      <td>False</td>\n",
       "      <td>False</td>\n",
       "      <td>False</td>\n",
       "      <td>False</td>\n",
       "      <td>False</td>\n",
       "      <td>Day</td>\n",
       "      <td>False</td>\n",
       "      <td>84.0</td>\n",
       "      <td>NaN</td>\n",
       "    </tr>\n",
       "    <tr>\n",
       "      <th>2974009</th>\n",
       "      <td>FL</td>\n",
       "      <td>4</td>\n",
       "      <td>NaN</td>\n",
       "      <td>False</td>\n",
       "      <td>False</td>\n",
       "      <td>False</td>\n",
       "      <td>False</td>\n",
       "      <td>False</td>\n",
       "      <td>False</td>\n",
       "      <td>Day</td>\n",
       "      <td>False</td>\n",
       "      <td>NaN</td>\n",
       "      <td>NaN</td>\n",
       "    </tr>\n",
       "    <tr>\n",
       "      <th>2974014</th>\n",
       "      <td>FL</td>\n",
       "      <td>4</td>\n",
       "      <td>Fair</td>\n",
       "      <td>False</td>\n",
       "      <td>False</td>\n",
       "      <td>False</td>\n",
       "      <td>False</td>\n",
       "      <td>False</td>\n",
       "      <td>False</td>\n",
       "      <td>Day</td>\n",
       "      <td>False</td>\n",
       "      <td>83.0</td>\n",
       "      <td>0.0</td>\n",
       "    </tr>\n",
       "    <tr>\n",
       "      <th>2974015</th>\n",
       "      <td>FL</td>\n",
       "      <td>4</td>\n",
       "      <td>Fair</td>\n",
       "      <td>False</td>\n",
       "      <td>False</td>\n",
       "      <td>False</td>\n",
       "      <td>False</td>\n",
       "      <td>False</td>\n",
       "      <td>False</td>\n",
       "      <td>Day</td>\n",
       "      <td>False</td>\n",
       "      <td>85.0</td>\n",
       "      <td>0.0</td>\n",
       "    </tr>\n",
       "  </tbody>\n",
       "</table>\n",
       "<p>223746 rows × 13 columns</p>\n",
       "</div>"
      ],
      "text/plain": [
       "        State  Severity Weather_Condition  Amenity   Bump  Crossing  Give_Way  \\\n",
       "116060     FL         3          Overcast    False  False     False     False   \n",
       "116061     FL         3     Mostly Cloudy    False  False     False     False   \n",
       "116062     FL         2     Mostly Cloudy    False  False     False     False   \n",
       "116063     FL         3     Mostly Cloudy    False  False     False     False   \n",
       "116064     FL         2  Scattered Clouds    False  False     False     False   \n",
       "...       ...       ...               ...      ...    ...       ...       ...   \n",
       "2974003    FL         2     Mostly Cloudy    False  False     False     False   \n",
       "2974004    FL         3           Thunder    False  False     False     False   \n",
       "2974009    FL         4               NaN    False  False     False     False   \n",
       "2974014    FL         4              Fair    False  False     False     False   \n",
       "2974015    FL         4              Fair    False  False     False     False   \n",
       "\n",
       "          Stop  Traffic_Calming Sunrise_Sunset  Traffic_Signal  \\\n",
       "116060   False            False            Day           False   \n",
       "116061   False            False            Day           False   \n",
       "116062   False            False            Day            True   \n",
       "116063   False            False            Day           False   \n",
       "116064   False            False            Day           False   \n",
       "...        ...              ...            ...             ...   \n",
       "2974003  False            False            Day           False   \n",
       "2974004  False            False            Day           False   \n",
       "2974009  False            False            Day           False   \n",
       "2974014  False            False            Day           False   \n",
       "2974015  False            False            Day           False   \n",
       "\n",
       "         Temperature(F)  Precipitation(in)  \n",
       "116060             80.6                NaN  \n",
       "116061             80.6                NaN  \n",
       "116062             80.1                NaN  \n",
       "116063             80.1                NaN  \n",
       "116064             79.0                NaN  \n",
       "...                 ...                ...  \n",
       "2974003            86.0                0.0  \n",
       "2974004            84.0                NaN  \n",
       "2974009             NaN                NaN  \n",
       "2974014            83.0                0.0  \n",
       "2974015            85.0                0.0  \n",
       "\n",
       "[223746 rows x 13 columns]"
      ]
     },
     "execution_count": 40,
     "metadata": {},
     "output_type": "execute_result"
    }
   ],
   "source": [
    "df_clean_01 = pd.DataFrame(raw_df, columns = np_input)\n",
    "\n",
    "df_clean02 = df_clean_01.loc[df_clean_01['State'] == 'FL']\n",
    "df_clean02\n"
   ]
  },
  {
   "cell_type": "code",
   "execution_count": 97,
   "metadata": {},
   "outputs": [
    {
     "data": {
      "text/plain": [
       "array(['Overcast', 'Mostly Cloudy', 'Scattered Clouds', 'Clear',\n",
       "       'Showers in the Vicinity', 'Light Rain', 'Partly Cloudy', 'Rain',\n",
       "       'Light Drizzle', 'Fog', nan, 'Cloudy', 'Heavy Rain', 'Fair',\n",
       "       'Mist', 'Haze', 'Heavy Thunderstorms and Rain',\n",
       "       'Light Thunderstorms and Rain', 'Thunderstorm', 'Shallow Fog',\n",
       "       'Patches of Fog', 'Drizzle', 'Smoke', 'Light Rain with Thunder',\n",
       "       'Thunderstorms and Rain', 'Thunder', 'Heavy T-Storm',\n",
       "       'Thunder in the Vicinity', 'Light Rain Showers', 'Volcanic Ash',\n",
       "       'Funnel Cloud', 'Heavy T-Storm / Windy', 'Rain Showers', 'T-Storm',\n",
       "       'Partly Cloudy / Windy', 'Mostly Cloudy / Windy',\n",
       "       'Heavy Rain / Windy', 'Light Rain / Windy', 'Cloudy / Windy',\n",
       "       'Fair / Windy', 'Fog / Windy', 'Haze / Windy', 'Rain / Windy',\n",
       "       'Heavy Drizzle', 'Light Rain Shower', 'T-Storm / Windy',\n",
       "       'Thunder / Windy', 'Squalls / Windy', 'Rain Shower',\n",
       "       'Light Freezing Fog', 'Light Snow', 'Light Snow and Sleet',\n",
       "       'Widespread Dust', 'Light Freezing Rain / Windy'], dtype=object)"
      ]
     },
     "execution_count": 97,
     "metadata": {},
     "output_type": "execute_result"
    }
   ],
   "source": [
    "df_clean02['Weather_Condition'].unique()"
   ]
  },
  {
   "cell_type": "markdown",
   "metadata": {},
   "source": [
    "## Data cleansing"
   ]
  },
  {
   "cell_type": "code",
   "execution_count": 4,
   "metadata": {},
   "outputs": [],
   "source": [
    "# df_clean03 = df_clean02.dropna(how='any')\n",
    "values = {'Precipitation(in)': 0}\n",
    "df_clean04 = df_clean02.fillna(value=values)"
   ]
  },
  {
   "cell_type": "code",
   "execution_count": 5,
   "metadata": {},
   "outputs": [],
   "source": [
    "df_clean05 = df_clean04.dropna(how='any')"
   ]
  },
  {
   "cell_type": "code",
   "execution_count": 6,
   "metadata": {},
   "outputs": [
    {
     "data": {
      "text/html": [
       "<div>\n",
       "<style scoped>\n",
       "    .dataframe tbody tr th:only-of-type {\n",
       "        vertical-align: middle;\n",
       "    }\n",
       "\n",
       "    .dataframe tbody tr th {\n",
       "        vertical-align: top;\n",
       "    }\n",
       "\n",
       "    .dataframe thead th {\n",
       "        text-align: right;\n",
       "    }\n",
       "</style>\n",
       "<table border=\"1\" class=\"dataframe\">\n",
       "  <thead>\n",
       "    <tr style=\"text-align: right;\">\n",
       "      <th></th>\n",
       "      <th>State</th>\n",
       "      <th>Severity</th>\n",
       "      <th>Weather_Condition</th>\n",
       "      <th>Amenity</th>\n",
       "      <th>Bump</th>\n",
       "      <th>Crossing</th>\n",
       "      <th>Give_Way</th>\n",
       "      <th>Stop</th>\n",
       "      <th>Traffic_Calming</th>\n",
       "      <th>Sunrise_Sunset</th>\n",
       "      <th>Traffic_Signal</th>\n",
       "      <th>Temperature(F)</th>\n",
       "      <th>Precipitation(in)</th>\n",
       "    </tr>\n",
       "  </thead>\n",
       "  <tbody>\n",
       "    <tr>\n",
       "      <th>116060</th>\n",
       "      <td>FL</td>\n",
       "      <td>3</td>\n",
       "      <td>Overcast</td>\n",
       "      <td>False</td>\n",
       "      <td>False</td>\n",
       "      <td>False</td>\n",
       "      <td>False</td>\n",
       "      <td>False</td>\n",
       "      <td>False</td>\n",
       "      <td>Day</td>\n",
       "      <td>False</td>\n",
       "      <td>80.6</td>\n",
       "      <td>0.0</td>\n",
       "    </tr>\n",
       "    <tr>\n",
       "      <th>116061</th>\n",
       "      <td>FL</td>\n",
       "      <td>3</td>\n",
       "      <td>Mostly Cloudy</td>\n",
       "      <td>False</td>\n",
       "      <td>False</td>\n",
       "      <td>False</td>\n",
       "      <td>False</td>\n",
       "      <td>False</td>\n",
       "      <td>False</td>\n",
       "      <td>Day</td>\n",
       "      <td>False</td>\n",
       "      <td>80.6</td>\n",
       "      <td>0.0</td>\n",
       "    </tr>\n",
       "    <tr>\n",
       "      <th>116062</th>\n",
       "      <td>FL</td>\n",
       "      <td>2</td>\n",
       "      <td>Mostly Cloudy</td>\n",
       "      <td>False</td>\n",
       "      <td>False</td>\n",
       "      <td>False</td>\n",
       "      <td>False</td>\n",
       "      <td>False</td>\n",
       "      <td>False</td>\n",
       "      <td>Day</td>\n",
       "      <td>True</td>\n",
       "      <td>80.1</td>\n",
       "      <td>0.0</td>\n",
       "    </tr>\n",
       "    <tr>\n",
       "      <th>116063</th>\n",
       "      <td>FL</td>\n",
       "      <td>3</td>\n",
       "      <td>Mostly Cloudy</td>\n",
       "      <td>False</td>\n",
       "      <td>False</td>\n",
       "      <td>False</td>\n",
       "      <td>False</td>\n",
       "      <td>False</td>\n",
       "      <td>False</td>\n",
       "      <td>Day</td>\n",
       "      <td>False</td>\n",
       "      <td>80.1</td>\n",
       "      <td>0.0</td>\n",
       "    </tr>\n",
       "    <tr>\n",
       "      <th>116064</th>\n",
       "      <td>FL</td>\n",
       "      <td>2</td>\n",
       "      <td>Scattered Clouds</td>\n",
       "      <td>False</td>\n",
       "      <td>False</td>\n",
       "      <td>False</td>\n",
       "      <td>False</td>\n",
       "      <td>False</td>\n",
       "      <td>False</td>\n",
       "      <td>Day</td>\n",
       "      <td>False</td>\n",
       "      <td>79.0</td>\n",
       "      <td>0.0</td>\n",
       "    </tr>\n",
       "    <tr>\n",
       "      <th>...</th>\n",
       "      <td>...</td>\n",
       "      <td>...</td>\n",
       "      <td>...</td>\n",
       "      <td>...</td>\n",
       "      <td>...</td>\n",
       "      <td>...</td>\n",
       "      <td>...</td>\n",
       "      <td>...</td>\n",
       "      <td>...</td>\n",
       "      <td>...</td>\n",
       "      <td>...</td>\n",
       "      <td>...</td>\n",
       "      <td>...</td>\n",
       "    </tr>\n",
       "    <tr>\n",
       "      <th>2974002</th>\n",
       "      <td>FL</td>\n",
       "      <td>4</td>\n",
       "      <td>Partly Cloudy</td>\n",
       "      <td>False</td>\n",
       "      <td>False</td>\n",
       "      <td>False</td>\n",
       "      <td>False</td>\n",
       "      <td>False</td>\n",
       "      <td>False</td>\n",
       "      <td>Day</td>\n",
       "      <td>False</td>\n",
       "      <td>90.0</td>\n",
       "      <td>0.0</td>\n",
       "    </tr>\n",
       "    <tr>\n",
       "      <th>2974003</th>\n",
       "      <td>FL</td>\n",
       "      <td>2</td>\n",
       "      <td>Mostly Cloudy</td>\n",
       "      <td>False</td>\n",
       "      <td>False</td>\n",
       "      <td>False</td>\n",
       "      <td>False</td>\n",
       "      <td>False</td>\n",
       "      <td>False</td>\n",
       "      <td>Day</td>\n",
       "      <td>False</td>\n",
       "      <td>86.0</td>\n",
       "      <td>0.0</td>\n",
       "    </tr>\n",
       "    <tr>\n",
       "      <th>2974004</th>\n",
       "      <td>FL</td>\n",
       "      <td>3</td>\n",
       "      <td>Thunder</td>\n",
       "      <td>False</td>\n",
       "      <td>False</td>\n",
       "      <td>False</td>\n",
       "      <td>False</td>\n",
       "      <td>False</td>\n",
       "      <td>False</td>\n",
       "      <td>Day</td>\n",
       "      <td>False</td>\n",
       "      <td>84.0</td>\n",
       "      <td>0.0</td>\n",
       "    </tr>\n",
       "    <tr>\n",
       "      <th>2974014</th>\n",
       "      <td>FL</td>\n",
       "      <td>4</td>\n",
       "      <td>Fair</td>\n",
       "      <td>False</td>\n",
       "      <td>False</td>\n",
       "      <td>False</td>\n",
       "      <td>False</td>\n",
       "      <td>False</td>\n",
       "      <td>False</td>\n",
       "      <td>Day</td>\n",
       "      <td>False</td>\n",
       "      <td>83.0</td>\n",
       "      <td>0.0</td>\n",
       "    </tr>\n",
       "    <tr>\n",
       "      <th>2974015</th>\n",
       "      <td>FL</td>\n",
       "      <td>4</td>\n",
       "      <td>Fair</td>\n",
       "      <td>False</td>\n",
       "      <td>False</td>\n",
       "      <td>False</td>\n",
       "      <td>False</td>\n",
       "      <td>False</td>\n",
       "      <td>False</td>\n",
       "      <td>Day</td>\n",
       "      <td>False</td>\n",
       "      <td>85.0</td>\n",
       "      <td>0.0</td>\n",
       "    </tr>\n",
       "  </tbody>\n",
       "</table>\n",
       "<p>219729 rows × 13 columns</p>\n",
       "</div>"
      ],
      "text/plain": [
       "        State  Severity Weather_Condition  Amenity   Bump  Crossing  Give_Way  \\\n",
       "116060     FL         3          Overcast    False  False     False     False   \n",
       "116061     FL         3     Mostly Cloudy    False  False     False     False   \n",
       "116062     FL         2     Mostly Cloudy    False  False     False     False   \n",
       "116063     FL         3     Mostly Cloudy    False  False     False     False   \n",
       "116064     FL         2  Scattered Clouds    False  False     False     False   \n",
       "...       ...       ...               ...      ...    ...       ...       ...   \n",
       "2974002    FL         4     Partly Cloudy    False  False     False     False   \n",
       "2974003    FL         2     Mostly Cloudy    False  False     False     False   \n",
       "2974004    FL         3           Thunder    False  False     False     False   \n",
       "2974014    FL         4              Fair    False  False     False     False   \n",
       "2974015    FL         4              Fair    False  False     False     False   \n",
       "\n",
       "          Stop  Traffic_Calming Sunrise_Sunset  Traffic_Signal  \\\n",
       "116060   False            False            Day           False   \n",
       "116061   False            False            Day           False   \n",
       "116062   False            False            Day            True   \n",
       "116063   False            False            Day           False   \n",
       "116064   False            False            Day           False   \n",
       "...        ...              ...            ...             ...   \n",
       "2974002  False            False            Day           False   \n",
       "2974003  False            False            Day           False   \n",
       "2974004  False            False            Day           False   \n",
       "2974014  False            False            Day           False   \n",
       "2974015  False            False            Day           False   \n",
       "\n",
       "         Temperature(F)  Precipitation(in)  \n",
       "116060             80.6                0.0  \n",
       "116061             80.6                0.0  \n",
       "116062             80.1                0.0  \n",
       "116063             80.1                0.0  \n",
       "116064             79.0                0.0  \n",
       "...                 ...                ...  \n",
       "2974002            90.0                0.0  \n",
       "2974003            86.0                0.0  \n",
       "2974004            84.0                0.0  \n",
       "2974014            83.0                0.0  \n",
       "2974015            85.0                0.0  \n",
       "\n",
       "[219729 rows x 13 columns]"
      ]
     },
     "execution_count": 6,
     "metadata": {},
     "output_type": "execute_result"
    }
   ],
   "source": [
    "# df_clean04['Precipitation(in)'].unique() \n",
    "df_clean05"
   ]
  },
  {
   "cell_type": "code",
   "execution_count": 7,
   "metadata": {},
   "outputs": [
    {
     "data": {
      "text/plain": [
       "array(['Day', 'Night'], dtype=object)"
      ]
     },
     "execution_count": 7,
     "metadata": {},
     "output_type": "execute_result"
    }
   ],
   "source": [
    "df_clean05['Sunrise_Sunset'].unique()"
   ]
  },
  {
   "cell_type": "code",
   "execution_count": 8,
   "metadata": {},
   "outputs": [],
   "source": [
    "df_clean07 = df_clean05.replace(' ', '_', regex=True)"
   ]
  },
  {
   "cell_type": "code",
   "execution_count": 9,
   "metadata": {},
   "outputs": [
    {
     "name": "stdout",
     "output_type": "stream",
     "text": [
      "(219729, 9) (219729,)\n"
     ]
    }
   ],
   "source": [
    "X = df_clean07.drop([\"Severity\",\"State\",\"Temperature(F)\",\"Precipitation(in)\"], axis=1) #remove the column you don't need\n",
    "y = df_clean07[\"Severity\"]\n",
    "print(X.shape, y.shape)"
   ]
  },
  {
   "cell_type": "code",
   "execution_count": 10,
   "metadata": {},
   "outputs": [],
   "source": [
    "from sklearn.model_selection import train_test_split\n",
    "from sklearn.preprocessing import LabelEncoder, MinMaxScaler #MinMaxScaler compress outliers\n",
    "from tensorflow.keras.utils import to_categorical"
   ]
  },
  {
   "cell_type": "code",
   "execution_count": 11,
   "metadata": {},
   "outputs": [],
   "source": [
    "X_train, X_test, y_train, y_test = train_test_split(X, y, random_state=20000, stratify=y) # random_state select the size of the sample and should include all unique possibilities"
   ]
  },
  {
   "cell_type": "code",
   "execution_count": 12,
   "metadata": {},
   "outputs": [],
   "source": [
    "le2 = LabelEncoder()\n",
    "le= LabelEncoder()"
   ]
  },
  {
   "cell_type": "code",
   "execution_count": 13,
   "metadata": {},
   "outputs": [
    {
     "name": "stderr",
     "output_type": "stream",
     "text": [
      "/Users/L/anaconda3/envs/PythonData/lib/python3.6/site-packages/ipykernel_launcher.py:2: SettingWithCopyWarning: \n",
      "A value is trying to be set on a copy of a slice from a DataFrame.\n",
      "Try using .loc[row_indexer,col_indexer] = value instead\n",
      "\n",
      "See the caveats in the documentation: http://pandas.pydata.org/pandas-docs/stable/user_guide/indexing.html#returning-a-view-versus-a-copy\n",
      "  \n",
      "/Users/L/anaconda3/envs/PythonData/lib/python3.6/site-packages/ipykernel_launcher.py:3: SettingWithCopyWarning: \n",
      "A value is trying to be set on a copy of a slice from a DataFrame.\n",
      "Try using .loc[row_indexer,col_indexer] = value instead\n",
      "\n",
      "See the caveats in the documentation: http://pandas.pydata.org/pandas-docs/stable/user_guide/indexing.html#returning-a-view-versus-a-copy\n",
      "  This is separate from the ipykernel package so we can avoid doing imports until\n"
     ]
    }
   ],
   "source": [
    "le.fit(X_train['Sunrise_Sunset'].astype(str))\n",
    "X_train['Sunrise_Sunset'] = le.transform(X_train['Sunrise_Sunset'].astype(str))\n",
    "X_test['Sunrise_Sunset'] = le.transform(X_test['Sunrise_Sunset'].astype(str))"
   ]
  },
  {
   "cell_type": "code",
   "execution_count": 14,
   "metadata": {
    "scrolled": true
   },
   "outputs": [
    {
     "name": "stdout",
     "output_type": "stream",
     "text": [
      "['Day', 'Night']\n",
      "[0, 1]\n"
     ]
    }
   ],
   "source": [
    "print(list(le.classes_))\n",
    "print(list(le.transform(list(le.classes_))))"
   ]
  },
  {
   "cell_type": "code",
   "execution_count": null,
   "metadata": {},
   "outputs": [],
   "source": [
    "print(list(le2.classes_))\n",
    "print(list(le2.transform(list(le2.classes_))))"
   ]
  },
  {
   "cell_type": "code",
   "execution_count": 16,
   "metadata": {},
   "outputs": [
    {
     "data": {
      "text/plain": [
       "array(['Clear', 'Fair', 'Mostly_Cloudy', 'Scattered_Clouds', 'Cloudy',\n",
       "       'Overcast', 'Haze', 'Light_Rain', 'Partly_Cloudy_/_Windy',\n",
       "       'Partly_Cloudy', 'Light_Thunderstorms_and_Rain', 'Thunderstorm',\n",
       "       'Heavy_Thunderstorms_and_Rain', 'Fog', 'Mostly_Cloudy_/_Windy',\n",
       "       'Heavy_Rain', 'Rain', 'Light_Rain_/_Windy', 'T-Storm',\n",
       "       'Light_Rain_with_Thunder', 'Heavy_T-Storm',\n",
       "       'Thunderstorms_and_Rain', 'Thunder_in_the_Vicinity',\n",
       "       'Patches_of_Fog', 'Thunder', 'Smoke', 'Light_Drizzle',\n",
       "       'Thunder_/_Windy', 'Fair_/_Windy', 'Shallow_Fog', 'Mist',\n",
       "       'Cloudy_/_Windy', 'Fog_/_Windy', 'Heavy_Rain_/_Windy',\n",
       "       'Rain_/_Windy', 'Drizzle', 'T-Storm_/_Windy', 'Light_Rain_Showers',\n",
       "       'Rain_Showers', 'Funnel_Cloud', 'Heavy_T-Storm_/_Windy',\n",
       "       'Showers_in_the_Vicinity', 'Light_Freezing_Rain_/_Windy',\n",
       "       'Widespread_Dust', 'Heavy_Drizzle', 'Squalls_/_Windy',\n",
       "       'Light_Rain_Shower', 'Volcanic_Ash', 'Light_Snow_and_Sleet',\n",
       "       'Haze_/_Windy', 'Light_Snow', 'Rain_Shower', 'Light_Freezing_Fog'],\n",
       "      dtype=object)"
      ]
     },
     "execution_count": 16,
     "metadata": {},
     "output_type": "execute_result"
    }
   ],
   "source": [
    "X_train['Weather_Condition'].unique()"
   ]
  },
  {
   "cell_type": "code",
   "execution_count": 110,
   "metadata": {},
   "outputs": [
    {
     "data": {
      "text/plain": [
       "['0',\n",
       " '12',\n",
       " '35',\n",
       " '44',\n",
       " '1',\n",
       " '37',\n",
       " '17',\n",
       " '27',\n",
       " '39',\n",
       " '38',\n",
       " '33',\n",
       " '6',\n",
       " '23',\n",
       " '14',\n",
       " '36',\n",
       " '2',\n",
       " '40',\n",
       " '28',\n",
       " '49',\n",
       " '30',\n",
       " '21',\n",
       " '7',\n",
       " '52',\n",
       " '4',\n",
       " '50',\n",
       " '47',\n",
       " '24',\n",
       " '51',\n",
       " '13',\n",
       " '45',\n",
       " '34',\n",
       " '10',\n",
       " '15',\n",
       " '20',\n",
       " '41',\n",
       " '11',\n",
       " '5',\n",
       " '3',\n",
       " '43',\n",
       " '16',\n",
       " '22',\n",
       " '46',\n",
       " '26',\n",
       " '9',\n",
       " '19',\n",
       " '48',\n",
       " '29',\n",
       " '8',\n",
       " '32',\n",
       " '18',\n",
       " '31',\n",
       " '42',\n",
       " '25']"
      ]
     },
     "execution_count": 110,
     "metadata": {},
     "output_type": "execute_result"
    }
   ],
   "source": [
    "list(le2.inverse_transform([ 0,  4, 29, 39,  1, 31,  9, 20, 33, 32, 27, 49, 16,  6, 30, 12, 35,\n",
    "       21, 44, 24, 14, 50, 48, 34, 46, 42, 17, 47,  5, 40, 28,  2,  7, 13,\n",
    "       36,  3, 45, 23, 38,  8, 15, 41, 19, 52, 11, 43, 22, 51, 26, 10, 25,\n",
    "       37, 18]))"
   ]
  },
  {
   "cell_type": "code",
   "execution_count": 17,
   "metadata": {
    "scrolled": true
   },
   "outputs": [
    {
     "name": "stderr",
     "output_type": "stream",
     "text": [
      "/Users/L/anaconda3/envs/PythonData/lib/python3.6/site-packages/ipykernel_launcher.py:2: SettingWithCopyWarning: \n",
      "A value is trying to be set on a copy of a slice from a DataFrame.\n",
      "Try using .loc[row_indexer,col_indexer] = value instead\n",
      "\n",
      "See the caveats in the documentation: http://pandas.pydata.org/pandas-docs/stable/user_guide/indexing.html#returning-a-view-versus-a-copy\n",
      "  \n",
      "/Users/L/anaconda3/envs/PythonData/lib/python3.6/site-packages/ipykernel_launcher.py:3: SettingWithCopyWarning: \n",
      "A value is trying to be set on a copy of a slice from a DataFrame.\n",
      "Try using .loc[row_indexer,col_indexer] = value instead\n",
      "\n",
      "See the caveats in the documentation: http://pandas.pydata.org/pandas-docs/stable/user_guide/indexing.html#returning-a-view-versus-a-copy\n",
      "  This is separate from the ipykernel package so we can avoid doing imports until\n"
     ]
    }
   ],
   "source": [
    "le2.fit(X_train['Weather_Condition'].astype(str))\n",
    "X_train['Weather_Condition'] = le2.transform(X_train['Weather_Condition'].astype(str))\n",
    "X_test['Weather_Condition'] = le2.transform(X_test['Weather_Condition'].astype(str))"
   ]
  },
  {
   "cell_type": "code",
   "execution_count": 18,
   "metadata": {},
   "outputs": [],
   "source": [
    "X_scaler = MinMaxScaler().fit(X_train)\n",
    "X_train_scaled = X_scaler.transform(X_train)\n",
    "X_test_scaled = X_scaler.transform(X_test)"
   ]
  },
  {
   "cell_type": "code",
   "execution_count": 19,
   "metadata": {},
   "outputs": [],
   "source": [
    "# Step 1: Label-encode data set\n",
    "# label_encoder = LabelEncoder()\n",
    "le.fit(y_train)\n",
    "encoded_y_train = le.transform(y_train)\n",
    "encoded_y_test = le.transform(y_test)"
   ]
  },
  {
   "cell_type": "code",
   "execution_count": 20,
   "metadata": {},
   "outputs": [],
   "source": [
    "# Step 2: Convert encoded labels to one-hot-encoding\n",
    "y_train_categorical = to_categorical(encoded_y_train) \n",
    "y_test_categorical = to_categorical(encoded_y_test)"
   ]
  },
  {
   "cell_type": "code",
   "execution_count": 21,
   "metadata": {},
   "outputs": [],
   "source": [
    "from tensorflow.keras.models import Sequential\n",
    "from tensorflow.keras.layers import Dense"
   ]
  },
  {
   "cell_type": "code",
   "execution_count": 27,
   "metadata": {},
   "outputs": [],
   "source": [
    "model = Sequential()\n",
    "model.add(Dense(units=100, activation='relu', input_dim=9))\n",
    "model.add(Dense(units=100, activation='relu'))\n",
    "model.add(Dense(units=4, activation='softmax'))"
   ]
  },
  {
   "cell_type": "code",
   "execution_count": 28,
   "metadata": {},
   "outputs": [],
   "source": [
    "# Compile and fit the model\n",
    "#### take a look at other options on doc model.compile\n",
    "model.compile(optimizer='adagrad',\n",
    "#               optimizer='rmsprop',\n",
    "#               optimizer='sgd',\n",
    "#               optimizer='adam',\n",
    "#               loss='huber_loss', # 165353/165353 - 8s - loss: 0.0540 - accuracy: 0.6469\n",
    "#               loss='mean_squared_error', # 165353/165353 - 7s - loss: 0.1080 - accuracy: 0.6468\n",
    "#               loss='categorical_crossentropy', # 165353/165353 - 7s - loss: 0.6954 - accuracy: 0.6469\n",
    "#               loss='categorical_hinge', #165353/165353 - 8s - loss: 0.7067 - accuracy: 0.6468 - categorial is not working with our data\n",
    "              loss='binary_crossentropy', # 165353/165353 - 8s - loss: 0.3661 - accuracy: 0.8235\n",
    "#               loss='mse', # 165353/165353 - 8s - loss: 0.3661 - accuracy: 0.8235\n",
    "              \n",
    "              metrics=['accuracy'])"
   ]
  },
  {
   "cell_type": "code",
   "execution_count": 29,
   "metadata": {},
   "outputs": [
    {
     "name": "stdout",
     "output_type": "stream",
     "text": [
      "Model: \"sequential_1\"\n",
      "_________________________________________________________________\n",
      "Layer (type)                 Output Shape              Param #   \n",
      "=================================================================\n",
      "dense_3 (Dense)              (None, 100)               1000      \n",
      "_________________________________________________________________\n",
      "dense_4 (Dense)              (None, 100)               10100     \n",
      "_________________________________________________________________\n",
      "dense_5 (Dense)              (None, 4)                 404       \n",
      "=================================================================\n",
      "Total params: 11,504\n",
      "Trainable params: 11,504\n",
      "Non-trainable params: 0\n",
      "_________________________________________________________________\n"
     ]
    }
   ],
   "source": [
    "model.summary()"
   ]
  },
  {
   "cell_type": "code",
   "execution_count": 30,
   "metadata": {},
   "outputs": [
    {
     "name": "stdout",
     "output_type": "stream",
     "text": [
      "Train on 164796 samples\n",
      "Epoch 1/10\n",
      "164796/164796 - 7s - loss: 0.3339 - accuracy: 0.8228\n",
      "Epoch 2/10\n",
      "164796/164796 - 6s - loss: 0.3239 - accuracy: 0.8256\n",
      "Epoch 3/10\n",
      "164796/164796 - 6s - loss: 0.3233 - accuracy: 0.8256\n",
      "Epoch 4/10\n",
      "164796/164796 - 6s - loss: 0.3230 - accuracy: 0.8257\n",
      "Epoch 5/10\n",
      "164796/164796 - 7s - loss: 0.3228 - accuracy: 0.8256\n",
      "Epoch 6/10\n",
      "164796/164796 - 7s - loss: 0.3227 - accuracy: 0.8256\n",
      "Epoch 7/10\n",
      "164796/164796 - 6s - loss: 0.3226 - accuracy: 0.8256\n",
      "Epoch 8/10\n",
      "164796/164796 - 7s - loss: 0.3226 - accuracy: 0.8256\n",
      "Epoch 9/10\n",
      "164796/164796 - 7s - loss: 0.3225 - accuracy: 0.8257\n",
      "Epoch 10/10\n",
      "164796/164796 - 7s - loss: 0.3225 - accuracy: 0.8256\n"
     ]
    },
    {
     "data": {
      "text/plain": [
       "<tensorflow.python.keras.callbacks.History at 0x135e764a8>"
      ]
     },
     "execution_count": 30,
     "metadata": {},
     "output_type": "execute_result"
    }
   ],
   "source": [
    "model.fit(\n",
    "    X_train_scaled,\n",
    "    y_train_categorical,\n",
    "    epochs=10,\n",
    "    shuffle=True,\n",
    "    verbose=2\n",
    ")"
   ]
  },
  {
   "cell_type": "markdown",
   "metadata": {},
   "source": [
    "## Prediction"
   ]
  },
  {
   "cell_type": "code",
   "execution_count": 31,
   "metadata": {},
   "outputs": [
    {
     "name": "stdout",
     "output_type": "stream",
     "text": [
      "54933/54933 - 1s - loss: 0.3226 - accuracy: 0.8255\n",
      "Normal Neural Network - Loss: 0.3226341194118076, Accuracy: 0.8255329132080078\n"
     ]
    }
   ],
   "source": [
    "model_loss, model_accuracy = model.evaluate(\n",
    "    X_test_scaled, y_test_categorical, verbose=2)\n",
    "print(\n",
    "    f\"Normal Neural Network - Loss: {model_loss}, Accuracy: {model_accuracy}\")"
   ]
  },
  {
   "cell_type": "code",
   "execution_count": 32,
   "metadata": {},
   "outputs": [],
   "source": [
    "encoded_predictions = model.predict_classes(X_test_scaled[:10])\n",
    "prediction_labels = le.inverse_transform(encoded_predictions)"
   ]
  },
  {
   "cell_type": "code",
   "execution_count": 33,
   "metadata": {},
   "outputs": [
    {
     "name": "stdout",
     "output_type": "stream",
     "text": [
      "Predicted classes: [2 2 2 2 3 2 2 2 2 2]\n",
      "Actual Labels: [2, 2, 3, 2, 3, 2, 2, 2, 2, 2]\n"
     ]
    }
   ],
   "source": [
    "print(f\"Predicted classes: {prediction_labels}\")\n",
    "print(f\"Actual Labels: {list(y_test[:10])}\")"
   ]
  },
  {
   "cell_type": "code",
   "execution_count": 34,
   "metadata": {},
   "outputs": [],
   "source": [
    "model.save(\"fl_traf_accid_severity.h5\")"
   ]
  }
 ],
 "metadata": {
  "kernelspec": {
   "display_name": "Python 3",
   "language": "python",
   "name": "python3"
  },
  "language_info": {
   "codemirror_mode": {
    "name": "ipython",
    "version": 3
   },
   "file_extension": ".py",
   "mimetype": "text/x-python",
   "name": "python",
   "nbconvert_exporter": "python",
   "pygments_lexer": "ipython3",
   "version": "3.6.9"
  }
 },
 "nbformat": 4,
 "nbformat_minor": 4
}
